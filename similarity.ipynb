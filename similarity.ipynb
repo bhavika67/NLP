{
  "nbformat": 4,
  "nbformat_minor": 0,
  "metadata": {
    "colab": {
      "provenance": [],
      "authorship_tag": "ABX9TyNZN743AdFv75sb9SQcwfKI",
      "include_colab_link": true
    },
    "kernelspec": {
      "name": "python3",
      "display_name": "Python 3"
    },
    "language_info": {
      "name": "python"
    }
  },
  "cells": [
    {
      "cell_type": "markdown",
      "metadata": {
        "id": "view-in-github",
        "colab_type": "text"
      },
      "source": [
        "<a href=\"https://colab.research.google.com/github/bhavika67/NLP/blob/main/similarity.ipynb\" target=\"_parent\"><img src=\"https://colab.research.google.com/assets/colab-badge.svg\" alt=\"Open In Colab\"/></a>"
      ]
    },
    {
      "cell_type": "markdown",
      "source": [
        "#  Finding Similarity Between Texts,Tagging Part of Speech."
      ],
      "metadata": {
        "id": "YK3jMT-HXvEm"
      }
    },
    {
      "cell_type": "markdown",
      "source": [
        "**Find the similarity**"
      ],
      "metadata": {
        "id": "al-nYHdDX_lS"
      }
    },
    {
      "cell_type": "code",
      "execution_count": null,
      "metadata": {
        "colab": {
          "base_uri": "https://localhost:8080/"
        },
        "id": "IGaExyDKXtMV",
        "outputId": "a7aeef0e-9931-413e-fb9b-4c535ebd88be"
      },
      "outputs": [
        {
          "output_type": "execute_result",
          "data": {
            "text/plain": [
              "(5, 10)"
            ]
          },
          "metadata": {},
          "execution_count": 3
        }
      ],
      "source": [
        "documents = (\n",
        "\"I like NLP\",\n",
        "\"I am exploring NLP\",\n",
        "\"I am a beginner in NLP\",\n",
        "\"I want to learn NLP\",\n",
        "\"I like advanced NLP\"\n",
        ")\n",
        "from sklearn.feature_extraction.text import TfidfVectorizer\n",
        "from sklearn.metrics.pairwise import cosine_similarity\n",
        "#Compute tfidf : feature engineering(refer previous chapter –Recipe 3-4)\n",
        "tfidf_vectorizer = TfidfVectorizer()\n",
        "tfidf_matrix = tfidf_vectorizer.fit_transform(documents)\n",
        "tfidf_matrix.shape\n"
      ]
    },
    {
      "cell_type": "code",
      "source": [
        "#compute similarity for first sentence with rest of the sentences\n",
        "cosine_similarity(tfidf_matrix[0:1],tfidf_matrix)"
      ],
      "metadata": {
        "colab": {
          "base_uri": "https://localhost:8080/"
        },
        "id": "yFjyFwkNYYIy",
        "outputId": "3e94f3fe-4323-43b7-a522-2e74584dcfef"
      },
      "execution_count": null,
      "outputs": [
        {
          "output_type": "execute_result",
          "data": {
            "text/plain": [
              "array([[1.        , 0.17682765, 0.14284054, 0.13489366, 0.68374784]])"
            ]
          },
          "metadata": {},
          "execution_count": 4
        }
      ]
    },
    {
      "cell_type": "markdown",
      "source": [
        "*Phonetic matching*"
      ],
      "metadata": {
        "id": "LvEu1S9ibppG"
      }
    },
    {
      "cell_type": "code",
      "source": [
        "!pip install fuzzywuzzy\n",
        "!pip install python-Levenshtein\n",
        "from fuzzywuzzy import fuzz\n",
        "import jellyfish\n",
        "\n",
        "def soundex_fuzzy(word):\n",
        "  # Convert the input word to lowercase before processing.\n",
        "  word = word.lower()\n",
        "  return jellyfish.soundex(word)\n",
        "\n",
        "# Example usage:\n",
        "print(soundex_fuzzy('natural'))\n",
        "print(soundex_fuzzy('natuaral'))\n",
        "print(soundex_fuzzy('language'))\n",
        "print(soundex_fuzzy('processing'))"
      ],
      "metadata": {
        "colab": {
          "base_uri": "https://localhost:8080/"
        },
        "id": "DHo5-S1gbDc4",
        "outputId": "c74d688e-e6c8-4df1-a16b-4316b6169816"
      },
      "execution_count": null,
      "outputs": [
        {
          "output_type": "stream",
          "name": "stdout",
          "text": [
            "Requirement already satisfied: fuzzywuzzy in /usr/local/lib/python3.10/dist-packages (0.18.0)\n",
            "Collecting python-Levenshtein\n",
            "  Downloading python_Levenshtein-0.26.1-py3-none-any.whl.metadata (3.7 kB)\n",
            "Collecting Levenshtein==0.26.1 (from python-Levenshtein)\n",
            "  Downloading levenshtein-0.26.1-cp310-cp310-manylinux_2_17_x86_64.manylinux2014_x86_64.whl.metadata (3.2 kB)\n",
            "Collecting rapidfuzz<4.0.0,>=3.9.0 (from Levenshtein==0.26.1->python-Levenshtein)\n",
            "  Downloading rapidfuzz-3.10.1-cp310-cp310-manylinux_2_17_x86_64.manylinux2014_x86_64.whl.metadata (11 kB)\n",
            "Downloading python_Levenshtein-0.26.1-py3-none-any.whl (9.4 kB)\n",
            "Downloading levenshtein-0.26.1-cp310-cp310-manylinux_2_17_x86_64.manylinux2014_x86_64.whl (162 kB)\n",
            "\u001b[2K   \u001b[90m━━━━━━━━━━━━━━━━━━━━━━━━━━━━━━━━━━━━━━━━\u001b[0m \u001b[32m162.6/162.6 kB\u001b[0m \u001b[31m4.4 MB/s\u001b[0m eta \u001b[36m0:00:00\u001b[0m\n",
            "\u001b[?25hDownloading rapidfuzz-3.10.1-cp310-cp310-manylinux_2_17_x86_64.manylinux2014_x86_64.whl (3.1 MB)\n",
            "\u001b[2K   \u001b[90m━━━━━━━━━━━━━━━━━━━━━━━━━━━━━━━━━━━━━━━━\u001b[0m \u001b[32m3.1/3.1 MB\u001b[0m \u001b[31m23.6 MB/s\u001b[0m eta \u001b[36m0:00:00\u001b[0m\n",
            "\u001b[?25hInstalling collected packages: rapidfuzz, Levenshtein, python-Levenshtein\n",
            "Successfully installed Levenshtein-0.26.1 python-Levenshtein-0.26.1 rapidfuzz-3.10.1\n",
            "N364\n",
            "N364\n",
            "L522\n",
            "P622\n"
          ]
        }
      ]
    },
    {
      "cell_type": "markdown",
      "source": [
        "**Tagging Part of Speech**"
      ],
      "metadata": {
        "id": "WBKQI2K_ZdT-"
      }
    },
    {
      "cell_type": "code",
      "source": [
        "Text = \"I love NLP and I will learn NLP in 2 month\"\n",
        "import nltk\n",
        "nltk.download('punkt')\n",
        "nltk.download('stopwords')\n",
        "nltk.download('averaged_perceptron_tagger')\n",
        "from nltk.corpus import stopwords\n",
        "from nltk.tokenize import word_tokenize, sent_tokenize\n",
        "stop_words = set(stopwords.words('english'))\n",
        "# Tokenize the text\n",
        "tokens = sent_tokenize(Text)\n",
        "#Generate tagging for all the tokens using loop\n",
        "for i in tokens:\n",
        " words = nltk.word_tokenize(i)\n",
        " words = [w for w in words if not w in stop_words]\n",
        " # POS-tagger.\n",
        " tags = nltk.pos_tag(words)\n",
        "tags"
      ],
      "metadata": {
        "colab": {
          "base_uri": "https://localhost:8080/"
        },
        "id": "Je-KjeJlZipC",
        "outputId": "d95139dc-2c14-4882-a9fd-d64870cdb4d4"
      },
      "execution_count": null,
      "outputs": [
        {
          "output_type": "stream",
          "name": "stderr",
          "text": [
            "[nltk_data] Downloading package punkt to /root/nltk_data...\n",
            "[nltk_data]   Package punkt is already up-to-date!\n",
            "[nltk_data] Downloading package stopwords to /root/nltk_data...\n",
            "[nltk_data]   Package stopwords is already up-to-date!\n",
            "[nltk_data] Downloading package averaged_perceptron_tagger to\n",
            "[nltk_data]     /root/nltk_data...\n",
            "[nltk_data]   Unzipping taggers/averaged_perceptron_tagger.zip.\n"
          ]
        },
        {
          "output_type": "execute_result",
          "data": {
            "text/plain": [
              "[('I', 'PRP'),\n",
              " ('love', 'VBP'),\n",
              " ('NLP', 'NNP'),\n",
              " ('I', 'PRP'),\n",
              " ('learn', 'VBP'),\n",
              " ('NLP', 'RB'),\n",
              " ('2', 'CD'),\n",
              " ('month', 'NN')]"
            ]
          },
          "metadata": {},
          "execution_count": 14
        }
      ]
    }
  ]
}