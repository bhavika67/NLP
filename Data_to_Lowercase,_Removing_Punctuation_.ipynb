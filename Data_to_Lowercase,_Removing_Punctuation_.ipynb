{
  "nbformat": 4,
  "nbformat_minor": 0,
  "metadata": {
    "colab": {
      "provenance": [],
      "authorship_tag": "ABX9TyO7HVvNWW71tXd4d0AUnKWW",
      "include_colab_link": true
    },
    "kernelspec": {
      "name": "python3",
      "display_name": "Python 3"
    },
    "language_info": {
      "name": "python"
    }
  },
  "cells": [
    {
      "cell_type": "markdown",
      "metadata": {
        "id": "view-in-github",
        "colab_type": "text"
      },
      "source": [
        "<a href=\"https://colab.research.google.com/github/bhavika67/NLP/blob/main/Data_to_Lowercase%2C_Removing_Punctuation_.ipynb\" target=\"_parent\"><img src=\"https://colab.research.google.com/assets/colab-badge.svg\" alt=\"Open In Colab\"/></a>"
      ]
    },
    {
      "cell_type": "markdown",
      "source": [
        "# Converting Text Data to Lowercase, Removing Punctuation."
      ],
      "metadata": {
        "id": "vNNP2alopD2C"
      }
    },
    {
      "cell_type": "markdown",
      "source": [
        "**Read/create the text data**"
      ],
      "metadata": {
        "id": "htnqxKJ7n5h_"
      }
    },
    {
      "cell_type": "code",
      "execution_count": null,
      "metadata": {
        "colab": {
          "base_uri": "https://localhost:8080/"
        },
        "id": "kXsDJXmAm9MR",
        "outputId": "567d3794-61b6-423c-dace-2378374b23f4"
      },
      "outputs": [
        {
          "output_type": "stream",
          "name": "stdout",
          "text": [
            "                                               tweet\n",
            "0                        This is introduction to NLP\n",
            "1              It is likely to be useful, to people \n",
            "2             Machine learning is the new electrcity\n",
            "3  There would be less hype around AI and more ac...\n",
            "4                           python is the best tool!\n",
            "5                                R is good langauage\n",
            "6                                   I like this book\n",
            "7                        I want more books like this\n"
          ]
        }
      ],
      "source": [
        "text=['This is introduction to NLP',\n",
        "      'It is likely to be useful, to people ',\n",
        "      'Machine learning is the new electrcity',\n",
        "      'There would be less hype around AI and more action going forward',\n",
        "      'python is the best tool!',\n",
        "      'R is good langauage',\n",
        "      'I like this book',\n",
        "      'I want more books like this']\n",
        "#convert list to data frame\n",
        "import pandas as pd\n",
        "df = pd.DataFrame({'tweet':text})\n",
        "print(df)"
      ]
    },
    {
      "cell_type": "markdown",
      "source": [
        "**Execute lower() function on the text data**"
      ],
      "metadata": {
        "id": "e7K7iLNQoYlu"
      }
    },
    {
      "cell_type": "code",
      "source": [
        "df['tweet'] = df['tweet'].apply(lambda x: \" \".join(x.lower()\n",
        "for x in x.split()))\n",
        "df['tweet']"
      ],
      "metadata": {
        "colab": {
          "base_uri": "https://localhost:8080/",
          "height": 335
        },
        "id": "P5MeloLJoQqy",
        "outputId": "d8ef3db7-ed61-45c5-c3ea-a7923dcef696"
      },
      "execution_count": null,
      "outputs": [
        {
          "output_type": "execute_result",
          "data": {
            "text/plain": [
              "0                          this is introduction to nlp\n",
              "1                 it is likely to be useful, to people\n",
              "2               machine learning is the new electrcity\n",
              "3    there would be less hype around ai and more ac...\n",
              "4                             python is the best tool!\n",
              "5                                  r is good langauage\n",
              "6                                     i like this book\n",
              "7                          i want more books like this\n",
              "Name: tweet, dtype: object"
            ],
            "text/html": [
              "<div>\n",
              "<style scoped>\n",
              "    .dataframe tbody tr th:only-of-type {\n",
              "        vertical-align: middle;\n",
              "    }\n",
              "\n",
              "    .dataframe tbody tr th {\n",
              "        vertical-align: top;\n",
              "    }\n",
              "\n",
              "    .dataframe thead th {\n",
              "        text-align: right;\n",
              "    }\n",
              "</style>\n",
              "<table border=\"1\" class=\"dataframe\">\n",
              "  <thead>\n",
              "    <tr style=\"text-align: right;\">\n",
              "      <th></th>\n",
              "      <th>tweet</th>\n",
              "    </tr>\n",
              "  </thead>\n",
              "  <tbody>\n",
              "    <tr>\n",
              "      <th>0</th>\n",
              "      <td>this is introduction to nlp</td>\n",
              "    </tr>\n",
              "    <tr>\n",
              "      <th>1</th>\n",
              "      <td>it is likely to be useful, to people</td>\n",
              "    </tr>\n",
              "    <tr>\n",
              "      <th>2</th>\n",
              "      <td>machine learning is the new electrcity</td>\n",
              "    </tr>\n",
              "    <tr>\n",
              "      <th>3</th>\n",
              "      <td>there would be less hype around ai and more ac...</td>\n",
              "    </tr>\n",
              "    <tr>\n",
              "      <th>4</th>\n",
              "      <td>python is the best tool!</td>\n",
              "    </tr>\n",
              "    <tr>\n",
              "      <th>5</th>\n",
              "      <td>r is good langauage</td>\n",
              "    </tr>\n",
              "    <tr>\n",
              "      <th>6</th>\n",
              "      <td>i like this book</td>\n",
              "    </tr>\n",
              "    <tr>\n",
              "      <th>7</th>\n",
              "      <td>i want more books like this</td>\n",
              "    </tr>\n",
              "  </tbody>\n",
              "</table>\n",
              "</div><br><label><b>dtype:</b> object</label>"
            ]
          },
          "metadata": {},
          "execution_count": 3
        }
      ]
    },
    {
      "cell_type": "markdown",
      "source": [
        "**Removing Punctuation**"
      ],
      "metadata": {
        "id": "1pxF0vVmof4p"
      }
    },
    {
      "cell_type": "code",
      "source": [
        "df['tweet'] = df['tweet'].str.replace('[^\\w\\s]', '')\n",
        "df['tweet']"
      ],
      "metadata": {
        "colab": {
          "base_uri": "https://localhost:8080/",
          "height": 335
        },
        "id": "_hsMoBOsooYN",
        "outputId": "e0b5e829-e46a-4e9b-daa5-77a1e748d09c"
      },
      "execution_count": null,
      "outputs": [
        {
          "output_type": "execute_result",
          "data": {
            "text/plain": [
              "0                          this is introduction to nlp\n",
              "1                 it is likely to be useful, to people\n",
              "2               machine learning is the new electrcity\n",
              "3    there would be less hype around ai and more ac...\n",
              "4                             python is the best tool!\n",
              "5                                  r is good langauage\n",
              "6                                     i like this book\n",
              "7                          i want more books like this\n",
              "Name: tweet, dtype: object"
            ],
            "text/html": [
              "<div>\n",
              "<style scoped>\n",
              "    .dataframe tbody tr th:only-of-type {\n",
              "        vertical-align: middle;\n",
              "    }\n",
              "\n",
              "    .dataframe tbody tr th {\n",
              "        vertical-align: top;\n",
              "    }\n",
              "\n",
              "    .dataframe thead th {\n",
              "        text-align: right;\n",
              "    }\n",
              "</style>\n",
              "<table border=\"1\" class=\"dataframe\">\n",
              "  <thead>\n",
              "    <tr style=\"text-align: right;\">\n",
              "      <th></th>\n",
              "      <th>tweet</th>\n",
              "    </tr>\n",
              "  </thead>\n",
              "  <tbody>\n",
              "    <tr>\n",
              "      <th>0</th>\n",
              "      <td>this is introduction to nlp</td>\n",
              "    </tr>\n",
              "    <tr>\n",
              "      <th>1</th>\n",
              "      <td>it is likely to be useful, to people</td>\n",
              "    </tr>\n",
              "    <tr>\n",
              "      <th>2</th>\n",
              "      <td>machine learning is the new electrcity</td>\n",
              "    </tr>\n",
              "    <tr>\n",
              "      <th>3</th>\n",
              "      <td>there would be less hype around ai and more ac...</td>\n",
              "    </tr>\n",
              "    <tr>\n",
              "      <th>4</th>\n",
              "      <td>python is the best tool!</td>\n",
              "    </tr>\n",
              "    <tr>\n",
              "      <th>5</th>\n",
              "      <td>r is good langauage</td>\n",
              "    </tr>\n",
              "    <tr>\n",
              "      <th>6</th>\n",
              "      <td>i like this book</td>\n",
              "    </tr>\n",
              "    <tr>\n",
              "      <th>7</th>\n",
              "      <td>i want more books like this</td>\n",
              "    </tr>\n",
              "  </tbody>\n",
              "</table>\n",
              "</div><br><label><b>dtype:</b> object</label>"
            ]
          },
          "metadata": {},
          "execution_count": 5
        }
      ]
    }
  ]
}