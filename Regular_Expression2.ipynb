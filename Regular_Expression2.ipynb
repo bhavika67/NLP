{
  "nbformat": 4,
  "nbformat_minor": 0,
  "metadata": {
    "colab": {
      "provenance": [],
      "authorship_tag": "ABX9TyMQopnZPFuwodsSO0gzWG77",
      "include_colab_link": true
    },
    "kernelspec": {
      "name": "python3",
      "display_name": "Python 3"
    },
    "language_info": {
      "name": "python"
    }
  },
  "cells": [
    {
      "cell_type": "markdown",
      "metadata": {
        "id": "view-in-github",
        "colab_type": "text"
      },
      "source": [
        "<a href=\"https://colab.research.google.com/github/bhavika67/NLP/blob/main/Regular_Expression2.ipynb\" target=\"_parent\"><img src=\"https://colab.research.google.com/assets/colab-badge.svg\" alt=\"Open In Colab\"/></a>"
      ]
    },
    {
      "cell_type": "markdown",
      "source": [
        "# Regular Expression (Pattern Matching functions)"
      ],
      "metadata": {
        "id": "ei8fbFvUHMH_"
      }
    },
    {
      "cell_type": "markdown",
      "source": [
        "**re.match():**\n",
        "\n",
        "*   Searches for a pattern only at the beginning of the string.\n",
        "*   Returns a match object if found; otherwise, it returns None"
      ],
      "metadata": {
        "id": "RsGFEKzJHaZ-"
      }
    },
    {
      "cell_type": "code",
      "execution_count": null,
      "metadata": {
        "colab": {
          "base_uri": "https://localhost:8080/"
        },
        "id": "AC9c4wIyHLox",
        "outputId": "4ed4f143-e5ad-414d-fbc6-6210a735fe80"
      },
      "outputs": [
        {
          "output_type": "stream",
          "name": "stdout",
          "text": [
            "Match found: Hello\n"
          ]
        }
      ],
      "source": [
        "import re\n",
        "\n",
        "text = \"Hello world!\"\n",
        "pattern = r\"Hello\"\n",
        "\n",
        "match = re.match(pattern, text)\n",
        "if match:\n",
        "    print(\"Match found:\", match.group())\n",
        "else:\n",
        "    print(\"No match found\")\n"
      ]
    },
    {
      "cell_type": "markdown",
      "source": [
        "**re.search():**\n",
        "\n",
        "*   Searches for a pattern anywhere in the string (not just at the start).\n",
        "*   Returns a match object for the first occurrence found; otherwise, it returns None.\n",
        "\n"
      ],
      "metadata": {
        "id": "Lih85H9CHvRW"
      }
    },
    {
      "cell_type": "code",
      "source": [
        "text = \"Say Hello to the world!\"\n",
        "pattern = r\"Hello\"\n",
        "\n",
        "search_result = re.search(pattern, text)\n",
        "if search_result:\n",
        "    print(\"Search found:\", search_result.group())\n",
        "else:\n",
        "    print(\"No match found\")\n"
      ],
      "metadata": {
        "colab": {
          "base_uri": "https://localhost:8080/"
        },
        "id": "8DIDhxRnIBiJ",
        "outputId": "9ca48141-407e-41bc-eb35-bf44c50746dc"
      },
      "execution_count": null,
      "outputs": [
        {
          "output_type": "stream",
          "name": "stdout",
          "text": [
            "Search found: Hello\n"
          ]
        }
      ]
    },
    {
      "cell_type": "markdown",
      "source": [
        "**re.findall():**\n",
        "\n",
        "*   Returns all non-overlapping matches of the pattern in the string as a list.\n",
        "*   If no matches are found, it returns an empty list\n",
        "\n"
      ],
      "metadata": {
        "id": "mFkxk1bFIF8y"
      }
    },
    {
      "cell_type": "code",
      "source": [
        "text = \"Email addresses: alice@example.com, bob@example.org\"\n",
        "pattern = r\"\\b[\\w.-]+@[\\w.-]+\\.\\w+\\b\"\n",
        "\n",
        "emails = re.findall(pattern, text)\n",
        "print(\"All emails found:\", emails)\n"
      ],
      "metadata": {
        "colab": {
          "base_uri": "https://localhost:8080/"
        },
        "id": "PZBrYdksIYJu",
        "outputId": "18ca06ab-a754-4ff8-9de0-c628a3014d0c"
      },
      "execution_count": null,
      "outputs": [
        {
          "output_type": "stream",
          "name": "stdout",
          "text": [
            "All emails found: ['alice@example.com', 'bob@example.org']\n"
          ]
        }
      ]
    },
    {
      "cell_type": "markdown",
      "source": [
        "**re.finditer():**\n",
        "\n",
        "*   Similar to re.findall() but returns an iterator of match objects instead of a list.\n",
        "*   Useful if you need more details (like position) about each match.\n",
        "\n"
      ],
      "metadata": {
        "id": "mEU20-a7LHJM"
      }
    },
    {
      "cell_type": "code",
      "source": [
        "text = \"The numbers are 123, 456, and 789\"\n",
        "pattern = r\"\\d+\"\n",
        "\n",
        "matches = re.finditer(pattern, text)\n",
        "for match in matches:\n",
        "    print(\"Match found:\", match.group(), \"at position\", match.start())\n"
      ],
      "metadata": {
        "colab": {
          "base_uri": "https://localhost:8080/"
        },
        "id": "US_76m6KLVfC",
        "outputId": "5702ce10-debb-411e-9f14-9cb7d8142df4"
      },
      "execution_count": null,
      "outputs": [
        {
          "output_type": "stream",
          "name": "stdout",
          "text": [
            "Match found: 123 at position 16\n",
            "Match found: 456 at position 21\n",
            "Match found: 789 at position 30\n"
          ]
        }
      ]
    },
    {
      "cell_type": "markdown",
      "source": [
        "**re.fullmatch():**\n",
        "\n",
        "*   Checks if the entire string matches the pattern (not just a part).\n",
        "*   Returns a match object if the full string matches; otherwise, it returns None.\n",
        "\n"
      ],
      "metadata": {
        "id": "AD-nlYXyLapF"
      }
    },
    {
      "cell_type": "code",
      "source": [
        "text = \"Hello123\"\n",
        "pattern = r\"\\w+\"\n",
        "\n",
        "full_match = re.fullmatch(pattern, text)\n",
        "if full_match:\n",
        "    print(\"Full match:\", full_match.group())\n",
        "else:\n",
        "    print(\"No full match found\")\n"
      ],
      "metadata": {
        "colab": {
          "base_uri": "https://localhost:8080/"
        },
        "id": "hJ0NFrZALeOH",
        "outputId": "20a25286-5ad2-4c29-9025-f4e2677913c9"
      },
      "execution_count": null,
      "outputs": [
        {
          "output_type": "stream",
          "name": "stdout",
          "text": [
            "Full match: Hello123\n"
          ]
        }
      ]
    },
    {
      "cell_type": "markdown",
      "source": [
        "**re.sub():**\n",
        "\n",
        "*   Replaces all matches of the pattern in the string with a specified replacement string.\n",
        "*   Returns the modified string.\n",
        "\n"
      ],
      "metadata": {
        "id": "kqvNguXWMWu6"
      }
    },
    {
      "cell_type": "code",
      "source": [
        "text = \"Replace every number with 'NUM': 123 and 456\"\n",
        "pattern = r\"\\d+\"\n",
        "\n",
        "modified_text = re.sub(pattern, \"NUM\", text)\n",
        "print(\"Modified text:\", modified_text)\n"
      ],
      "metadata": {
        "colab": {
          "base_uri": "https://localhost:8080/"
        },
        "id": "11Nx0efsLhAH",
        "outputId": "17ebd1c9-e38e-4b04-8907-f57c05efc877"
      },
      "execution_count": null,
      "outputs": [
        {
          "output_type": "stream",
          "name": "stdout",
          "text": [
            "Modified text: Replace every number with 'NUM': NUM and NUM\n"
          ]
        }
      ]
    },
    {
      "cell_type": "markdown",
      "source": [
        "**re.subn():**\n",
        "\n",
        "*   The modified string.\n",
        "*   The number of replacements made.\n",
        "\n"
      ],
      "metadata": {
        "id": "7PjQrGUCL4Mx"
      }
    },
    {
      "cell_type": "code",
      "source": [
        "text = \"Replace every number: 123 and 456\"\n",
        "pattern = r\"\\d+\"\n",
        "\n",
        "result = re.subn(pattern, \"NUM\", text)\n",
        "print(\"Modified text:\", result[0], \"with\", result[1], \"replacements\")\n"
      ],
      "metadata": {
        "colab": {
          "base_uri": "https://localhost:8080/"
        },
        "id": "BLPPsstsLkuR",
        "outputId": "b337eef0-04c9-48d3-9aca-b6ed87c7c8ed"
      },
      "execution_count": null,
      "outputs": [
        {
          "output_type": "stream",
          "name": "stdout",
          "text": [
            "Modified text: Replace every number: NUM and NUM with 2 replacements\n"
          ]
        }
      ]
    },
    {
      "cell_type": "markdown",
      "source": [
        "**re.split():**\n",
        "\n",
        "*   Splits the string by occurrences of the pattern, returning a list.\n",
        "*   Useful for splitting text based on custom delimiters.\n",
        "\n"
      ],
      "metadata": {
        "id": "J0UTJbaPLqp4"
      }
    },
    {
      "cell_type": "code",
      "source": [
        "text = \"Split on commas, semicolons; or spaces\"\n",
        "pattern = r\"[,; ]+\"\n",
        "\n",
        "split_text = re.split(pattern, text)\n",
        "print(\"Split text:\", split_text)\n"
      ],
      "metadata": {
        "colab": {
          "base_uri": "https://localhost:8080/"
        },
        "id": "fSh0Ry5MLohs",
        "outputId": "b43003b7-0944-48a3-8c99-da03e3a30f1d"
      },
      "execution_count": null,
      "outputs": [
        {
          "output_type": "stream",
          "name": "stdout",
          "text": [
            "Split text: ['Split', 'on', 'commas', 'semicolons', 'or', 'spaces']\n"
          ]
        }
      ]
    }
  ]
}