{
  "nbformat": 4,
  "nbformat_minor": 0,
  "metadata": {
    "colab": {
      "provenance": [],
      "mount_file_id": "1hJXoEc4-lUl3s8of5JxYVaco8ZiicfaI",
      "authorship_tag": "ABX9TyNJ2XwO1Du4zDmizmFxlPnB",
      "include_colab_link": true
    },
    "kernelspec": {
      "name": "python3",
      "display_name": "Python 3"
    },
    "language_info": {
      "name": "python"
    }
  },
  "cells": [
    {
      "cell_type": "markdown",
      "metadata": {
        "id": "view-in-github",
        "colab_type": "text"
      },
      "source": [
        "<a href=\"https://colab.research.google.com/github/bhavika67/NLP/blob/main/Extracting_data_from_json_and_word.ipynb\" target=\"_parent\"><img src=\"https://colab.research.google.com/assets/colab-badge.svg\" alt=\"Open In Colab\"/></a>"
      ]
    },
    {
      "cell_type": "markdown",
      "source": [
        "#Extracting Data From Word And Json File\n"
      ],
      "metadata": {
        "id": "hOhDCvt5_pWW"
      }
    },
    {
      "cell_type": "markdown",
      "source": [
        "**Extracting Data From Word File**"
      ],
      "metadata": {
        "id": "2VJl5KEuAaUe"
      }
    },
    {
      "cell_type": "code",
      "source": [
        "import docx\n",
        "\n",
        "def extract_text_from_docx(docx_path):\n",
        "    try:\n",
        "        doc = docx.Document(docx_path)\n",
        "        full_text = []\n",
        "        for para in doc.paragraphs:\n",
        "            full_text.append(para.text)\n",
        "        return '\\n'.join(full_text)\n",
        "    except Exception as e:\n",
        "        print(f\"Error extracting text: {e}\")\n",
        "        return None\n",
        "\n",
        "docx_path = '/content/Poems.docx'\n",
        "text = extract_text_from_docx(docx_path)\n",
        "\n",
        "if text:\n",
        "    print(text)\n",
        "else:\n",
        "    print(\"Text extraction failed.\")"
      ],
      "metadata": {
        "colab": {
          "base_uri": "https://localhost:8080/"
        },
        "id": "mh_IcKZ8CkMV",
        "outputId": "0eb62241-9289-4a2b-b14f-33957bfd8ac5"
      },
      "execution_count": null,
      "outputs": [
        {
          "output_type": "stream",
          "name": "stdout",
          "text": [
            "The Aim Was Song\n",
            "BY ROBERT FROST\n",
            "\n",
            "Before man came to blow it right\n",
            "     The wind once blew itself untaught,\n",
            "And did its loudest day and night\n",
            "     In any rough place where it caught.\n",
            " \n",
            "Man came to tell it what was wrong:\n",
            "     It hadn’t found the place to blow;\n",
            "It blew too hard—the aim was song.\n",
            "     And listen—how it ought to go!\n",
            " \n",
            "He took a little in his mouth,\n",
            "     And held it long enough for north\n",
            "To be converted into south,\n",
            "     And then by measure blew it forth.\n",
            " \n",
            "By measure. It was word and note,\n",
            "     The wind the wind had meant to be—\n",
            "A little through the lips and throat.\n",
            "     The aim was song—the wind could see.\n",
            "\n",
            "\n",
            "\n",
            "\n",
            "\n",
            "\n",
            "\n",
            "\n",
            "\n",
            "\n",
            "\n",
            "\n",
            "\n",
            "\n",
            "\n",
            "\n",
            "\n",
            "\n",
            "To One Coming North\n",
            "BY CLAUDE MCKAY\n",
            "At first you'll joy to see the playful snow, \n",
            "  Like white moths trembling on the tropic air, \n",
            "Or waters of the hills that softly flow \n",
            "  Gracefully falling down a shining stair.\n",
            " \n",
            "And when the fields and streets are covered white \n",
            "  And the wind-worried void is chilly, raw, \n",
            "Or underneath a spell of heat and light \n",
            "  The cheerless frozen spots begin to thaw,\n",
            " \n",
            "Like me you'll long for home, where birds' glad song \n",
            "  Means flowering lanes and leas and spaces dry, \n",
            "And tender thoughts and feelings fine and strong, \n",
            "  Beneath a vivid silver-flecked blue sky.\n",
            " \n",
            "But oh! more than the changeless southern isles, \n",
            "  When Spring has shed upon the earth her charm, \n",
            "You'll love the Northland wreathed in golden smiles \n",
            "  By the miraculous sun turned glad and warm.\n",
            "\n",
            "\n",
            "\n",
            "\n",
            "\n",
            "\n",
            "\n",
            "\n",
            "\n",
            "\n",
            "\n",
            "\n",
            "\n",
            "\n",
            "\n",
            "\n",
            "\n",
            "\n",
            "Introduction to Poetry     \n",
            " \n",
            "I ask them to take a poem\n",
            "and hold it up to the light\n",
            "like a color slide\n",
            "\n",
            "or press an ear against its hive.\n",
            "\n",
            "I say drop a mouse into a poem\n",
            "and watch him probe his way out,\n",
            "\n",
            "or walk inside the poem’s room\n",
            "and feel the walls for a light switch.\n",
            "\n",
            "I want them to waterski\n",
            "across the surface of a poem\n",
            "waving at the author’s name on the shore.\n",
            "\n",
            "But all they want to do\n",
            "is tie the poem to a chair with rope\n",
            "and torture a confession out of it.\n",
            "\n",
            "They begin beating it with a hose\n",
            "to find out what it really means.\n",
            "\n",
            "Billy Collins\n",
            "\n",
            "\n",
            "\n",
            "\n",
            "\n",
            "\n",
            "\n",
            "\n",
            "\n",
            "\n",
            "\n",
            "\n",
            "\n",
            "\n",
            "\n",
            "\n",
            "\n",
            "The Arrow and the Song\n",
            "\n",
            "I shot an arrow into the air,\n",
            "It fell to earth, I knew not where; \n",
            "For, so swiftly it flew, the sight \n",
            "Could not follow it in its flight.\n",
            "\n",
            "I breathed a song into the air,\n",
            "It fell to earth, I knew not where;\n",
            "For who has sight so keen and strong That it can follow the flight of song?\n",
            "\n",
            "Long, long afterward, in an oak\n",
            "I found the arrow, still unbroke;\n",
            "And the song, from beginning to end, \n",
            "I found again in the heart of a friend.\n",
            "\n",
            "HENRY W. LONGFELLOW.\n",
            "\n"
          ]
        }
      ]
    },
    {
      "cell_type": "markdown",
      "source": [
        "**Extracting Data From JSON File**"
      ],
      "metadata": {
        "id": "hs78ymA0ARfc"
      }
    },
    {
      "cell_type": "markdown",
      "source": [
        "JSON stands for JavaScript Object Notation. It's a lightweight and human-readable format for storing and exchanging data"
      ],
      "metadata": {
        "id": "y6us9dT3mnHU"
      }
    },
    {
      "cell_type": "code",
      "source": [
        "import json\n",
        "# Load JSON data from a file\n",
        "with open('/content/csvjson (1).json') as f:\n",
        "    data = json.load(f)\n",
        "\n",
        "# Access specific data\n",
        "print(data)"
      ],
      "metadata": {
        "colab": {
          "base_uri": "https://localhost:8080/"
        },
        "id": "0Ws31_tRkfgZ",
        "outputId": "35892138-1d0b-4ee6-d156-ec9306fc51ed"
      },
      "execution_count": null,
      "outputs": [
        {
          "output_type": "stream",
          "name": "stdout",
          "text": [
            "[{'Category: All categories': 'kpop: (10/26/24, 8:50\\u202fPM - 10/27/24, 8:50\\u202fPM, India)'}, {'Category: All categories': 'TOP'}, {'Category: All categories': 'kpop idols'}, {'Category: All categories': 'bts'}, {'Category: All categories': 'blackpink'}, {'Category: All categories': 'kpop groups'}, {'Category: All categories': 'kpop news'}, {'Category: All categories': 'reddit kpop'}, {'Category: All categories': 'queen of kpop'}, {'Category: All categories': 'aria kpop'}, {'Category: All categories': 'rose'}, {'Category: All categories': 'kpop quiz'}, {'Category: All categories': 'rose kpop'}, {'Category: All categories': 'jungkook'}, {'Category: All categories': 'seventeen kpop'}, {'Category: All categories': 'iu'}, {'Category: All categories': 'iu kpop'}, {'Category: All categories': 'seventeen'}, {'Category: All categories': 'hybe'}, {'Category: All categories': 'who is queen of kpop'}, {'Category: All categories': 'black swan kpop'}, {'Category: All categories': 'kpop girl groups'}, {'Category: All categories': 'xin kpop'}, {'Category: All categories': 'enhypen'}, {'Category: All categories': 'jisoo'}, {'Category: All categories': 'twice'}, {'Category: All categories': 'babymonster'}, {'Category: All categories': 'RISING'}, {'Category: All categories': 'pannchoa'}, {'Category: All categories': 'selja kpop killer is real or fake'}, {'Category: All categories': 'gidle'}, {'Category: All categories': 'kpop ringtone download'}, {'Category: All categories': 'big bang kpop'}, {'Category: All categories': 'god kpop'}, {'Category: All categories': 'starlight boys'}, {'Category: All categories': 'which kpop idol do i look like'}, {'Category: All categories': 'kara kpop'}, {'Category: All categories': 'kpop radar instagram'}, {'Category: All categories': 'dreamcatcher'}, {'Category: All categories': 'hyunjin'}, {'Category: All categories': 'yg entertainment'}, {'Category: All categories': 'kenzie kpop'}, {'Category: All categories': 'starlight boys kpop'}, {'Category: All categories': 'best dancer in kpop vote 2024'}, {'Category: All categories': 'black swan kpop'}, {'Category: All categories': 'babymonster'}, {'Category: All categories': 'sriya lenka'}, {'Category: All categories': 'new jeans kpop'}, {'Category: All categories': 'queen of kpop'}, {'Category: All categories': 'new jeans'}, {'Category: All categories': 'itzy'}, {'Category: All categories': 'who is queen of kpop'}, {'Category: All categories': 'kpop quiz'}]\n"
          ]
        }
      ]
    }
  ]
}