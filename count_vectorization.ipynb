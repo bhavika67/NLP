{
  "nbformat": 4,
  "nbformat_minor": 0,
  "metadata": {
    "colab": {
      "provenance": [],
      "authorship_tag": "ABX9TyMa8JnqlSVtCsfwlNWYu5gR",
      "include_colab_link": true
    },
    "kernelspec": {
      "name": "python3",
      "display_name": "Python 3"
    },
    "language_info": {
      "name": "python"
    }
  },
  "cells": [
    {
      "cell_type": "markdown",
      "metadata": {
        "id": "view-in-github",
        "colab_type": "text"
      },
      "source": [
        "<a href=\"https://colab.research.google.com/github/bhavika67/NLP/blob/main/count_vectorization.ipynb\" target=\"_parent\"><img src=\"https://colab.research.google.com/assets/colab-badge.svg\" alt=\"Open In Colab\"/></a>"
      ]
    },
    {
      "cell_type": "markdown",
      "source": [
        "# Converting Text to Features Using Count  Vectorizing."
      ],
      "metadata": {
        "id": "wWtfVLf-9Hci"
      }
    },
    {
      "cell_type": "markdown",
      "source": [
        "Count Vectorization is a text processing technique used to convert textual data into a numerical format suitable for machine learning models. In essence, it represents each text document as a vector of word counts. This approach is commonly used in Natural Language Processing (NLP) and text mining tasks to analyze the frequency of words in text data"
      ],
      "metadata": {
        "id": "EcWJG-sU9xek"
      }
    },
    {
      "cell_type": "code",
      "execution_count": null,
      "metadata": {
        "colab": {
          "base_uri": "https://localhost:8080/"
        },
        "id": "xkQgEfHF9Emh",
        "outputId": "802d821a-d31f-4ac5-a323-166589a6423d"
      },
      "outputs": [
        {
          "output_type": "stream",
          "name": "stdout",
          "text": [
            "   and  document  first  is  one  second  the  third  this\n",
            "0    0         1      1   1    0       0    1      0     1\n",
            "1    0         2      0   1    0       1    1      0     1\n",
            "2    1         0      0   1    1       0    1      1     1\n",
            "3    0         1      1   1    0       0    1      0     1\n"
          ]
        }
      ],
      "source": [
        "from sklearn.feature_extraction.text import CountVectorizer\n",
        "\n",
        "# Sample text data\n",
        "corpus = [\n",
        "    'This is the first document.',\n",
        "    'This document is the second document.',\n",
        "    'And this is the third one.',\n",
        "    'Is this the first document?'\n",
        "]\n",
        "\n",
        "# Create a CountVectorizer object\n",
        "vectorizer = CountVectorizer()\n",
        "\n",
        "# Fit and transform the corpus\n",
        "X = vectorizer.fit_transform(corpus)\n",
        "\n",
        "# Convert to a dense array for better readability\n",
        "X_array = X.toarray()\n",
        "\n",
        "# Get the feature names (vocabulary)\n",
        "feature_names = vectorizer.get_feature_names_out()\n",
        "\n",
        "# Create a dataframe for better visualization\n",
        "import pandas as pd\n",
        "df = pd.DataFrame(X_array, columns=feature_names)\n",
        "\n",
        "print(df)"
      ]
    }
  ]
}