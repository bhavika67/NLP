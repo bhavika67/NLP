{
  "nbformat": 4,
  "nbformat_minor": 0,
  "metadata": {
    "colab": {
      "provenance": [],
      "authorship_tag": "ABX9TyOYgTwMNFYtsppz/y/uJA3m",
      "include_colab_link": true
    },
    "kernelspec": {
      "name": "python3",
      "display_name": "Python 3"
    },
    "language_info": {
      "name": "python"
    }
  },
  "cells": [
    {
      "cell_type": "markdown",
      "metadata": {
        "id": "view-in-github",
        "colab_type": "text"
      },
      "source": [
        "<a href=\"https://colab.research.google.com/github/bhavika67/NLP/blob/main/Regular_Expression1.ipynb\" target=\"_parent\"><img src=\"https://colab.research.google.com/assets/colab-badge.svg\" alt=\"Open In Colab\"/></a>"
      ]
    },
    {
      "cell_type": "markdown",
      "source": [
        "# Regular Expression (Parsing Text Using Regular Expressions Basic flags and tags)"
      ],
      "metadata": {
        "id": "uwN_xacYFzqQ"
      }
    },
    {
      "cell_type": "markdown",
      "source": [
        "Regular expressions (regex) are patterns used to match character combinations in strings. They are extremely useful for searching, extracting, and manipulating text."
      ],
      "metadata": {
        "id": "bOQd6DkEG7LD"
      }
    },
    {
      "cell_type": "code",
      "execution_count": null,
      "metadata": {
        "colab": {
          "base_uri": "https://localhost:8080/"
        },
        "id": "xxffxGsRFwon",
        "outputId": "bcf12611-6229-4c3c-8e7b-244e9b4a0466"
      },
      "outputs": [
        {
          "output_type": "stream",
          "name": "stdout",
          "text": [
            "Emails found: ['john.doe@example.com', 'jane_smith@website.org', 'sam_brown@example.co.uk']\n",
            "Names and Ages found: [('John Doe', '29'), ('Jane Smith', '34'), ('Sam Brown', '40')]\n",
            "Matches for 'john' (case-insensitive): ['John', 'john']\n",
            "Lines containing 'Age': ['John Doe, john.doe@example.com, Age: 29', 'Jane Smith, jane_smith@website.org, Age: 34', 'Sam Brown, sam_brown@example.co.uk, Age: 40']\n",
            "Emails found using verbose mode: ['john.doe@example.com', 'jane_smith@website.org', 'sam_brown@example.co.uk']\n"
          ]
        }
      ],
      "source": [
        "import re\n",
        "\n",
        "# Example text for parsing\n",
        "text = \"\"\"\n",
        "John Doe, john.doe@example.com, Age: 29\n",
        "Jane Smith, jane_smith@website.org, Age: 34\n",
        "Sam Brown, sam_brown@example.co.uk, Age: 40\n",
        "\"\"\"\n",
        "\n",
        "# 1. Finding Email Addresses\n",
        "email_pattern = r'\\b[\\w.-]+@[\\w.-]+\\.\\w+\\b'  # Pattern for email addresses\n",
        "emails = re.findall(email_pattern, text)\n",
        "print(\"Emails found:\", emails)\n",
        "\n",
        "# 2. Extracting Names and Ages\n",
        "name_age_pattern = r'([A-Za-z]+\\s[A-Za-z]+),\\s.*?Age:\\s(\\d+)'  # Capture groups for names and ages\n",
        "name_age_matches = re.findall(name_age_pattern, text)\n",
        "print(\"Names and Ages found:\", name_age_matches)\n",
        "\n",
        "# 3. Case-Insensitive Search for the Word \"john\"\n",
        "case_insensitive_pattern = r'john'\n",
        "matches = re.findall(case_insensitive_pattern, text, re.IGNORECASE)\n",
        "print(\"Matches for 'john' (case-insensitive):\", matches)\n",
        "\n",
        "# 4. Multi-line Matching: Extract lines that contain 'Age'\n",
        "multiline_pattern = r'^.*Age:.*$'\n",
        "age_lines = re.findall(multiline_pattern, text, re.MULTILINE)\n",
        "print(\"Lines containing 'Age':\", age_lines)\n",
        "\n",
        "# 5. Extracting Data with Verbose Flag (Pattern for emails with comments)\n",
        "verbose_email_pattern = re.compile(r\"\"\"\n",
        "    \\b                # Start word boundary\n",
        "    [\\w.-]+           # Username: word characters, dot, or hyphen\n",
        "    @                 # Single at symbol\n",
        "    [\\w.-]+           # Domain name\n",
        "    \\.                # Dot separator\n",
        "    \\w+               # Top-level domain\n",
        "    \\b                # End word boundary\n",
        "\"\"\", re.VERBOSE)\n",
        "\n",
        "emails_verbose = verbose_email_pattern.findall(text)\n",
        "print(\"Emails found using verbose mode:\", emails_verbose)\n"
      ]
    }
  ]
}