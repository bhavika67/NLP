{
  "nbformat": 4,
  "nbformat_minor": 0,
  "metadata": {
    "colab": {
      "provenance": [],
      "authorship_tag": "ABX9TyOZyK9x0snp69nh5wlaPGpw",
      "include_colab_link": true
    },
    "kernelspec": {
      "name": "python3",
      "display_name": "Python 3"
    },
    "language_info": {
      "name": "python"
    }
  },
  "cells": [
    {
      "cell_type": "markdown",
      "metadata": {
        "id": "view-in-github",
        "colab_type": "text"
      },
      "source": [
        "<a href=\"https://colab.research.google.com/github/bhavika67/NLP/blob/main/Sentiment_Analysis.ipynb\" target=\"_parent\"><img src=\"https://colab.research.google.com/assets/colab-badge.svg\" alt=\"Open In Colab\"/></a>"
      ]
    },
    {
      "cell_type": "markdown",
      "source": [
        "# Classifying Text: Sentiment Analysis."
      ],
      "metadata": {
        "id": "g2DIcP8xccuu"
      }
    },
    {
      "cell_type": "markdown",
      "source": [
        "Sentiment analysis is a method of natural language processing (NLP) that determines the emotional tone behind words. It’s widely used to interpret the sentiment expressed in texts, like reviews, tweets, emails, or news articles, identifying whether the tone is positive, negative, or neutral. This helps businesses and individuals gauge customer opinions, measure brand reputation, and understand public sentiment around a product, event, or person."
      ],
      "metadata": {
        "id": "cJvPqZPNfm1M"
      }
    },
    {
      "cell_type": "code",
      "source": [
        "review = \"I like this phone. screen quality and camera clarity is really good.\"\n",
        "review2 = \"This tv is not good. Bad quality, no clarity, worst experience\""
      ],
      "metadata": {
        "id": "Ur-Qsi1ZfSj0"
      },
      "execution_count": null,
      "outputs": []
    },
    {
      "cell_type": "markdown",
      "source": [
        "*Cleaning and preprocessing*"
      ],
      "metadata": {
        "id": "ZbYaEak7ffPh"
      }
    },
    {
      "cell_type": "code",
      "execution_count": null,
      "metadata": {
        "colab": {
          "base_uri": "https://localhost:8080/",
          "height": 105
        },
        "id": "E0DX1NdRcM87",
        "outputId": "fd2cdda2-ead9-4780-9b44-ef85649461fb"
      },
      "outputs": [
        {
          "output_type": "stream",
          "name": "stderr",
          "text": [
            "[nltk_data] Downloading package wordnet to /root/nltk_data...\n",
            "[nltk_data]   Package wordnet is already up-to-date!\n",
            "[nltk_data] Downloading package wordnet to /root/nltk_data...\n",
            "[nltk_data]   Package wordnet is already up-to-date!\n"
          ]
        },
        {
          "output_type": "execute_result",
          "data": {
            "text/plain": [
              "'this tv is not good bad quality no clarity worst experience'"
            ],
            "application/vnd.google.colaboratory.intrinsic+json": {
              "type": "string"
            }
          },
          "metadata": {},
          "execution_count": 12
        }
      ],
      "source": [
        "def processRow(row):\n",
        " import re\n",
        " import nltk\n",
        " from textblob import TextBlob\n",
        " from nltk.corpus import stopwords\n",
        " from nltk.stem import PorterStemmer\n",
        " from textblob import Word\n",
        " from nltk.util import ngrams\n",
        " import re\n",
        " from wordcloud import WordCloud, STOPWORDS\n",
        " from nltk.tokenize import word_tokenize\n",
        " nltk.download('wordnet')\n",
        " tweet = row\n",
        " #Lower case\n",
        " tweet = tweet.lower()\n",
        " #Removes unicode strings like \"\\u002c\" and \"x96\"\n",
        " tweet = re.sub(r'(\\\\u[0-9A-Fa-f]+)',r'', tweet)\n",
        " tweet = re.sub(r'[^\\x00-\\x7f]',r'',tweet)\n",
        " #convert any url to URL\n",
        " tweet = re.sub('((www\\.[^\\s]+)|(https?://[^\\s]+))','URL',tweet)\n",
        " #Convert any @Username to \"AT_USER\"\n",
        " tweet = re.sub('@[^\\s]+','AT_USER',tweet)\n",
        " #Remove additional white spaces\n",
        " tweet = re.sub('[\\s]+', ' ', tweet)\n",
        " tweet = re.sub('[\\n]+', ' ', tweet)\n",
        " #Remove not alphanumeric symbols white spaces\n",
        " tweet = re.sub(r'[^\\w]', ' ', tweet)\n",
        " #Removes hastag in front of a word \"\"\"\n",
        " tweet = re.sub(r'#([^\\s]+)', r'\\1', tweet)\n",
        " #Replace #word with word\n",
        " tweet = re.sub(r'#([^\\s]+)', r'\\1', tweet)\n",
        " #Remove :( or :)\n",
        " tweet = tweet.replace(':)',\"\")\n",
        " tweet = tweet.replace(':(',\"\")\n",
        " #remove numbers\n",
        " tweet = \"\".join([i for i in tweet if not i.isdigit()])\n",
        " #remove multiple exclamation\n",
        " tweet = re.sub(r\"(\\!)\\1+\", ' ', tweet)\n",
        " #remove multiple question marks\n",
        " tweet = re.sub(r\"(\\?)\\1+\", ' ', tweet)\n",
        " #remove multistop\n",
        " tweet = re.sub(r\"(\\.)\\1+\", ' ', tweet)\n",
        " #lemma\n",
        " from textblob import Word\n",
        " tweet =\" \".join([Word(word).lemmatize() for word in tweet.split()])\n",
        " tweet = re.sub(':\\)|;\\)|:-\\)|\\(-:|:-D|=D|:P|xD|X -p|\\^\\^|:-*|\\^\\.\\^|\\^\\-\\^|\\^\\_\\^|\\,-\\)|\\)-:|:\\'\\(|:\\(|:-\\(|:\\S|T\\.T|\\.\\_\\.|:<|:-\\S|:-<|\\*\\-\\*|:O|=O|=\\-O|O\\.o|XO|O\\_O|:-\\@|=/|:/|X\\-\\(|>\\.<|>=\\(|D:', \"\", tweet)\n",
        " #trim\n",
        " tweet = tweet.strip('\\'\"')\n",
        " row = tweet\n",
        " return row\n",
        "#call the function with your data\n",
        "processRow(review)\n",
        "processRow(review2)"
      ]
    },
    {
      "cell_type": "code",
      "source": [
        "processRow(review2)"
      ],
      "metadata": {
        "colab": {
          "base_uri": "https://localhost:8080/",
          "height": 70
        },
        "id": "ji2Uz4rWelK9",
        "outputId": "c9971f99-2cf5-4b33-dd17-fa3e03abc34c"
      },
      "execution_count": null,
      "outputs": [
        {
          "output_type": "stream",
          "name": "stderr",
          "text": [
            "[nltk_data] Downloading package wordnet to /root/nltk_data...\n",
            "[nltk_data]   Package wordnet is already up-to-date!\n"
          ]
        },
        {
          "output_type": "execute_result",
          "data": {
            "text/plain": [
              "'this tv is not good bad quality no clarity worst experience'"
            ],
            "application/vnd.google.colaboratory.intrinsic+json": {
              "type": "string"
            }
          },
          "metadata": {},
          "execution_count": 13
        }
      ]
    },
    {
      "cell_type": "markdown",
      "source": [
        "*Get the sentiment scores*"
      ],
      "metadata": {
        "id": "tx9WaX0ifX00"
      }
    },
    {
      "cell_type": "code",
      "source": [
        "from textblob import TextBlob\n",
        "#TextBlob has a pre trained sentiment prediction model\n",
        "blob = TextBlob(review)\n",
        "blob.sentiment"
      ],
      "metadata": {
        "colab": {
          "base_uri": "https://localhost:8080/"
        },
        "id": "22Uy_k53eqFl",
        "outputId": "a328becb-ae70-4cf8-e550-3fa12db8e456"
      },
      "execution_count": null,
      "outputs": [
        {
          "output_type": "execute_result",
          "data": {
            "text/plain": [
              "Sentiment(polarity=0.7, subjectivity=0.6000000000000001)"
            ]
          },
          "metadata": {},
          "execution_count": 14
        }
      ]
    },
    {
      "cell_type": "code",
      "source": [
        "blob = TextBlob(review2)\n",
        "blob.sentiment"
      ],
      "metadata": {
        "colab": {
          "base_uri": "https://localhost:8080/"
        },
        "id": "CQxCt1Tke8XF",
        "outputId": "695102fe-07ba-4e4f-88c4-88c13042c853"
      },
      "execution_count": null,
      "outputs": [
        {
          "output_type": "execute_result",
          "data": {
            "text/plain": [
              "Sentiment(polarity=-0.6833333333333332, subjectivity=0.7555555555555555)"
            ]
          },
          "metadata": {},
          "execution_count": 15
        }
      ]
    }
  ]
}