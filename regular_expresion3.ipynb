{
  "nbformat": 4,
  "nbformat_minor": 0,
  "metadata": {
    "colab": {
      "provenance": [],
      "authorship_tag": "ABX9TyOt49mN3HxYxYTIpyRbO5PP",
      "include_colab_link": true
    },
    "kernelspec": {
      "name": "python3",
      "display_name": "Python 3"
    },
    "language_info": {
      "name": "python"
    }
  },
  "cells": [
    {
      "cell_type": "markdown",
      "metadata": {
        "id": "view-in-github",
        "colab_type": "text"
      },
      "source": [
        "<a href=\"https://colab.research.google.com/github/bhavika67/NLP/blob/main/regular_expresion3.ipynb\" target=\"_parent\"><img src=\"https://colab.research.google.com/assets/colab-badge.svg\" alt=\"Open In Colab\"/></a>"
      ]
    },
    {
      "cell_type": "markdown",
      "source": [
        "# Regular Expression (Pattern Matching)"
      ],
      "metadata": {
        "id": "Cjqom8UV7T9N"
      }
    },
    {
      "cell_type": "code",
      "execution_count": null,
      "metadata": {
        "colab": {
          "base_uri": "https://localhost:8080/"
        },
        "id": "yYKIhzmr6gA1",
        "outputId": "7b30a4e5-efcc-47a0-ce93-9bc4321027d9"
      },
      "outputs": [
        {
          "output_type": "stream",
          "name": "stdout",
          "text": [
            "\n",
            "Find email addresses:\n",
            " - info@example.com\n",
            " - support@sample.org\n",
            "\n",
            "Find words starting with 'P':\n",
            " - Python\n",
            "\n",
            "Find phone numbers:\n",
            " - No match found.\n",
            "\n",
            "Replacing email addresses with [EMAIL HIDDEN]:\n",
            "Welcome to the world of regular expressions in Python. Contact us at [EMAIL HIDDEN] or [EMAIL HIDDEN].\n"
          ]
        }
      ],
      "source": [
        "import re\n",
        "\n",
        "def main():\n",
        "    # Example text to search within\n",
        "    text = \"Welcome to the world of regular expressions in Python. Contact us at info@example.com or support@sample.org.\"\n",
        "\n",
        "    # Define patterns to search\n",
        "    patterns = {\n",
        "        \"Find email addresses\": r\"[a-zA-Z0-9._%+-]+@[a-zA-Z0-9.-]+\\.[a-zA-Z]{2,}\",\n",
        "        \"Find words starting with 'P'\": r\"\\bP\\w+\",\n",
        "        \"Find phone numbers\": r\"\\b\\d{3}[-.]\\d{3}[-.]\\d{4}\\b\",\n",
        "    }\n",
        "\n",
        "    # Search patterns in the text\n",
        "    for description, pattern in patterns.items():\n",
        "        print(f\"\\n{description}:\")\n",
        "        matches = re.findall(pattern, text)\n",
        "        if matches:\n",
        "            for match in matches:\n",
        "                print(f\" - {match}\")\n",
        "        else:\n",
        "            print(\" - No match found.\")\n",
        "\n",
        "    # Example of replacing text\n",
        "    print(\"\\nReplacing email addresses with [EMAIL HIDDEN]:\")\n",
        "    masked_text = re.sub(patterns[\"Find email addresses\"], \"[EMAIL HIDDEN]\", text)\n",
        "    print(masked_text)\n",
        "\n",
        "# Run the main function\n",
        "if __name__ == \"__main__\":\n",
        "    main()\n"
      ]
    }
  ]
}